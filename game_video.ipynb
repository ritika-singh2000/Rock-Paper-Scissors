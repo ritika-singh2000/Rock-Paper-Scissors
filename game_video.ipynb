{
 "cells": [
  {
   "cell_type": "code",
   "execution_count": 1,
   "metadata": {},
   "outputs": [],
   "source": [
    "import numpy as np\n",
    "import cv2\n",
    "from imutils import  paths\n",
    "import imutils\n",
    "import os\n",
    "from imutils.video import VideoStream\n",
    "from keras.models import load_model\n",
    "from random import choice\n",
    "from tensorflow.keras.preprocessing.image import img_to_array\n",
    "from tensorflow.keras.applications.mobilenet_v2 import preprocess_input"
   ]
  },
  {
   "cell_type": "code",
   "execution_count": 2,
   "metadata": {},
   "outputs": [],
   "source": [
    "model = load_model('model227_2.h5')"
   ]
  },
  {
   "cell_type": "code",
   "execution_count": null,
   "metadata": {},
   "outputs": [],
   "source": []
  },
  {
   "cell_type": "code",
   "execution_count": null,
   "metadata": {},
   "outputs": [],
   "source": []
  },
  {
   "cell_type": "code",
   "execution_count": null,
   "metadata": {},
   "outputs": [],
   "source": []
  },
  {
   "cell_type": "code",
   "execution_count": null,
   "metadata": {},
   "outputs": [],
   "source": []
  },
  {
   "cell_type": "code",
   "execution_count": 3,
   "metadata": {},
   "outputs": [],
   "source": [
    "my_map = {\n",
    "    0 : \"paper\",\n",
    "    1 : \"rock\",\n",
    "    2 : \"scissors\",\n",
    "    3: \"none\"\n",
    "}\n"
   ]
  },
  {
   "cell_type": "code",
   "execution_count": 4,
   "metadata": {},
   "outputs": [],
   "source": [
    "def mapper(val):\n",
    "    return my_map[val]"
   ]
  },
  {
   "cell_type": "code",
   "execution_count": 11,
   "metadata": {
    "scrolled": false
   },
   "outputs": [
    {
     "name": "stdout",
     "output_type": "stream",
     "text": [
      "(400, 400, 3)\n",
      "(400, 400, 3)\n",
      "(400, 400, 3)\n",
      "(400, 400, 3)\n",
      "(400, 400, 3)\n",
      "(400, 400, 3)\n",
      "(400, 400, 3)\n",
      "(400, 400, 3)\n",
      "(400, 400, 3)\n",
      "(400, 400, 3)\n",
      "(400, 400, 3)\n",
      "(400, 400, 3)\n",
      "(400, 400, 3)\n",
      "(400, 400, 3)\n",
      "(400, 400, 3)\n",
      "(400, 400, 3)\n",
      "(400, 400, 3)\n",
      "(400, 400, 3)\n",
      "(400, 400, 3)\n",
      "(400, 400, 3)\n",
      "(400, 400, 3)\n",
      "(400, 400, 3)\n",
      "(400, 400, 3)\n",
      "(400, 400, 3)\n",
      "(400, 400, 3)\n",
      "(400, 400, 3)\n",
      "(400, 400, 3)\n",
      "(400, 400, 3)\n",
      "(400, 400, 3)\n",
      "(400, 400, 3)\n",
      "(400, 400, 3)\n",
      "(400, 400, 3)\n",
      "(400, 400, 3)\n",
      "(400, 400, 3)\n",
      "(400, 400, 3)\n",
      "(400, 400, 3)\n",
      "(400, 400, 3)\n",
      "(400, 400, 3)\n",
      "(400, 400, 3)\n",
      "(400, 400, 3)\n",
      "(400, 400, 3)\n",
      "(400, 400, 3)\n",
      "(400, 400, 3)\n",
      "(400, 400, 3)\n",
      "(400, 400, 3)\n",
      "(400, 400, 3)\n",
      "(400, 400, 3)\n",
      "(400, 400, 3)\n",
      "(400, 400, 3)\n",
      "(400, 400, 3)\n",
      "(400, 400, 3)\n",
      "(400, 400, 3)\n",
      "(400, 400, 3)\n",
      "(400, 400, 3)\n",
      "(400, 400, 3)\n",
      "(400, 400, 3)\n",
      "(400, 400, 3)\n",
      "(400, 400, 3)\n",
      "(400, 400, 3)\n",
      "(400, 400, 3)\n",
      "(400, 400, 3)\n",
      "(400, 400, 3)\n",
      "(400, 400, 3)\n",
      "(400, 400, 3)\n",
      "(400, 400, 3)\n",
      "(400, 400, 3)\n",
      "(400, 400, 3)\n",
      "(400, 400, 3)\n",
      "(400, 400, 3)\n",
      "(400, 400, 3)\n",
      "(400, 400, 3)\n",
      "(400, 400, 3)\n",
      "(400, 400, 3)\n",
      "(400, 400, 3)\n",
      "(400, 400, 3)\n",
      "(400, 400, 3)\n",
      "(400, 400, 3)\n",
      "(400, 400, 3)\n",
      "(400, 400, 3)\n",
      "(400, 400, 3)\n",
      "(400, 400, 3)\n",
      "(400, 400, 3)\n",
      "(400, 400, 3)\n",
      "(400, 400, 3)\n",
      "(400, 400, 3)\n",
      "(400, 400, 3)\n",
      "(400, 400, 3)\n",
      "(400, 400, 3)\n",
      "(400, 400, 3)\n",
      "(400, 400, 3)\n",
      "(400, 400, 3)\n",
      "(400, 400, 3)\n",
      "(400, 400, 3)\n",
      "(400, 400, 3)\n",
      "(400, 400, 3)\n",
      "(400, 400, 3)\n",
      "(400, 400, 3)\n",
      "(400, 400, 3)\n",
      "(400, 400, 3)\n"
     ]
    }
   ],
   "source": [
    "def my_winner(move1 , move2):\n",
    "    \n",
    "    if move1 == move2:\n",
    "        return \"TIE :(\"\n",
    "    \n",
    "    if move1 == \"rock\":\n",
    "        if move2 == \"paper\":\n",
    "            return \"Computer\"\n",
    "        if move2 == \"scissors\":\n",
    "            return \"User\"\n",
    "    \n",
    "    if move1 == \"paper\":\n",
    "        if move2 == \"scissors\":\n",
    "            return \"Computer\"\n",
    "        if move2 == \"rock\":\n",
    "            return \"User\"     \n",
    "    \n",
    "    if move1 == \"scissors\":\n",
    "        if move2 == \"rock\":\n",
    "            return \"Computer\"\n",
    "        if move2 == \"paper\":\n",
    "            return \"User\"     \n",
    "              \n",
    "\n",
    "\n",
    "\n",
    "cap = cv2.VideoCapture(0)\n",
    "cap.set(3, 1280)\n",
    "cap.set(4, 720)\n",
    "\n",
    "prev_move = None\n",
    "i=0\n",
    "\n",
    "while True :\n",
    "    ret , frame = cap.read()\n",
    "    if not ret :\n",
    "        continue\n",
    "        \n",
    "    # boundary for the user to play\n",
    "    cv2.rectangle(frame , (100,100),(500 ,500 ),(255,255,255),2)\n",
    "    # boundary for the computer to play\n",
    "    cv2.rectangle(frame , (800,100),(1200,500),(255,255,255),2)\n",
    "    \n",
    "    # Extracting the image within the boundary\n",
    "    roi = frame[100:500 , 100:500]\n",
    "    img = cv2.cvtColor(roi , cv2.COLOR_BGR2RGB)\n",
    "#     img = cv2.resize(img,(IMG_SIZ,IMG_SIZ),3)\n",
    "    img = cv2.resize(img , (224,224))\n",
    "#     print(img.shape)\n",
    "#     print(\"*********************************\")\n",
    "    \n",
    "    #predict the move\n",
    "    \n",
    "    image = img_to_array(img)\n",
    "    image = preprocess_input(img)\n",
    "#     print(\"preprocesses input : \" , image)\n",
    "    image = np.array(image, dtype='float32')\n",
    "#     print(\"array image shape : \", image.shape)\n",
    "    image = np.expand_dims(image, axis =0)\n",
    "#     print(\"array image shape : \", image.shape)\n",
    "    predict = model.predict(image)\n",
    "#     predict = model.predict(np.array[img])\n",
    "    move_code  = np.argmax(predict)\n",
    "    user_move_name = mapper(move_code)\n",
    "    \n",
    "    # Predicting the winner\n",
    "     # predict the winner (human vs computer)\n",
    "    if prev_move != user_move_name:\n",
    "        if user_move_name !=\"none\":\n",
    "            computer_move_name = choice(['rock' , 'paper' ,'scissors'])\n",
    "            winner = my_winner(user_move_name ,computer_move_name)\n",
    "        \n",
    "    else:\n",
    "        computer_move_name = \"none\"\n",
    "        winner = \"YET TO DECIDE ....\"\n",
    "    prev_move = user_move_name\n",
    "    \n",
    "    font = cv2.FONT_HERSHEY_SIMPLEX\n",
    "    cv2.putText(frame, \"Your Move: \" + user_move_name,\n",
    "                (50, 50), font, 1.2, (255, 255, 255), 2, cv2.LINE_AA)\n",
    "    cv2.putText(frame, \"Computer's Move: \" + computer_move_name,\n",
    "                (750, 50), font, 1.2, (255, 255, 255), 2, cv2.LINE_AA)\n",
    "    cv2.putText(frame, \"Winner: \" + winner,\n",
    "                (400, 600), font, 2, (0, 0, 255), 4, cv2.LINE_AA)\n",
    "    \n",
    "    if computer_move_name != \"none\":\n",
    "        icon = cv2.imread(\n",
    "            \"comp_data/{}.png\".format(computer_move_name))\n",
    "#         print(icon.shape)        \n",
    "        icon = cv2.resize(icon, (400, 400) )\n",
    "        print(icon.shape)        \n",
    "        frame[100:500,800:1200] = icon\n",
    "        cv2.imshow(\"Rock Paper Scissors\", frame)\n",
    "    \n",
    "    k = cv2.waitKey(15)\n",
    "    if k == ord('q'):\n",
    "        break\n",
    "    i+=1    \n",
    "       \n",
    "\n",
    "cap.release()\n",
    "cv2.destroyAllWindows()\n",
    "    "
   ]
  },
  {
   "cell_type": "code",
   "execution_count": 6,
   "metadata": {},
   "outputs": [
    {
     "name": "stdout",
     "output_type": "stream",
     "text": [
      "(600, 600, 3)\n"
     ]
    }
   ],
   "source": [
    "computer_move_name = \"rock\"\n",
    "icon = cv2.imread(\n",
    "            r\"C:/Users/Ritika Singh/Desktop/ML and DL projects/Rock Paper Sissors/comp_data/{}.png\".format(computer_move_name))\n",
    "print(icon.shape)      "
   ]
  },
  {
   "cell_type": "markdown",
   "metadata": {},
   "source": [
    " "
   ]
  },
  {
   "cell_type": "code",
   "execution_count": 7,
   "metadata": {},
   "outputs": [],
   "source": [
    "# icon = cv2.resize(icon, (400, 400) )"
   ]
  },
  {
   "cell_type": "code",
   "execution_count": 8,
   "metadata": {},
   "outputs": [],
   "source": [
    "# icon = icon.reshape((400, 400))\n",
    "icon = cv2.resize(icon, (400, 400) )"
   ]
  },
  {
   "cell_type": "code",
   "execution_count": 9,
   "metadata": {},
   "outputs": [
    {
     "data": {
      "text/plain": [
       "(400, 400, 3)"
      ]
     },
     "execution_count": 9,
     "metadata": {},
     "output_type": "execute_result"
    }
   ],
   "source": [
    "icon.shape"
   ]
  },
  {
   "cell_type": "code",
   "execution_count": 10,
   "metadata": {},
   "outputs": [
    {
     "data": {
      "text/plain": [
       "400"
      ]
     },
     "execution_count": 10,
     "metadata": {},
     "output_type": "execute_result"
    }
   ],
   "source": [
    "icon.shape[0]"
   ]
  },
  {
   "cell_type": "code",
   "execution_count": null,
   "metadata": {},
   "outputs": [],
   "source": []
  },
  {
   "cell_type": "code",
   "execution_count": null,
   "metadata": {},
   "outputs": [],
   "source": []
  },
  {
   "cell_type": "code",
   "execution_count": null,
   "metadata": {},
   "outputs": [],
   "source": []
  },
  {
   "cell_type": "code",
   "execution_count": null,
   "metadata": {},
   "outputs": [],
   "source": []
  }
 ],
 "metadata": {
  "kernelspec": {
   "display_name": "Python 3",
   "language": "python",
   "name": "python3"
  },
  "language_info": {
   "codemirror_mode": {
    "name": "ipython",
    "version": 3
   },
   "file_extension": ".py",
   "mimetype": "text/x-python",
   "name": "python",
   "nbconvert_exporter": "python",
   "pygments_lexer": "ipython3",
   "version": "3.7.6"
  }
 },
 "nbformat": 4,
 "nbformat_minor": 4
}
